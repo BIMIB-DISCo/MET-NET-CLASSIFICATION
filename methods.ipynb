{
 "cells": [
  {
   "cell_type": "markdown",
   "metadata": {},
   "source": [
    "# Imports"
   ]
  },
  {
   "cell_type": "code",
   "execution_count": null,
   "metadata": {},
   "outputs": [],
   "source": [
    "import os\n",
    "from tqdm.auto import tqdm\n",
    "\n",
    "import numpy as np\n",
    "import pandas as pd\n",
    "\n",
    "from sklearn import svm,neural_network,ensemble\n",
    "from sklearn.model_selection import GridSearchCV, cross_validate, KFold\n",
    "from sklearn.pipeline import Pipeline\n",
    "from sklearn.metrics import precision_score, recall_score, accuracy_score, make_scorer\n",
    "from sklearn.preprocessing import StandardScaler\n",
    "\n",
    "import matplotlib.pyplot as plt\n",
    "import seaborn as sns\n",
    "\n",
    "import pickle as pkl"
   ]
  },
  {
   "cell_type": "markdown",
   "metadata": {},
   "source": [
    "# Input Pre-processing"
   ]
  },
  {
   "cell_type": "code",
   "execution_count": null,
   "metadata": {},
   "outputs": [],
   "source": [
    "dataset = pd.read_csv(\"data/R22_breast_cancer.csv\")"
   ]
  },
  {
   "cell_type": "code",
   "execution_count": null,
   "metadata": {},
   "outputs": [],
   "source": [
    "ds_dict['df'] = dataset\n",
    "ds_dict['name'] = 'Breast'\n",
    "ds_dict['thresholds'] = [0.0001, 0.001, 0.01, 0.1, 0.2, 0.3, 0.4, 0.5, 0.6, 0.7]"
   ]
  },
  {
   "cell_type": "markdown",
   "metadata": {},
   "source": [
    "# Model Fitting/Eval"
   ]
  },
  {
   "cell_type": "markdown",
   "metadata": {},
   "source": [
    "## Param Grid"
   ]
  },
  {
   "cell_type": "code",
   "execution_count": null,
   "metadata": {},
   "outputs": [],
   "source": [
    "gammas = [2**gamma for gamma in range(-15, 4, 1)]\n",
    "Cs = [2**c for c in range(-5, 12, 1)]\n",
    "tols = [10**(-3), 10**(-4)]\n",
    "param_grid_svm = [{'clf__C': Cs,\n",
    "                   'clf__tol': tols,\n",
    "                   'clf__gamma': gammas,\n",
    "                   'clf__kernel': ['rbf', 'sigmoid']},\n",
    "                  {'clf__C': Cs,\n",
    "                   'clf__tol': tols,\n",
    "                   'clf__kernel': ['linear']}]\n",
    "param_grid_mlp = {'clf__solver': ['adam', 'lbfgs'],\n",
    "                  'clf__hidden_layer_sizes': [(50,),(100,),(50,50)],\n",
    "                  'clf__learning_rate': ['constant', 'adaptive'],\n",
    "                  'clf__learning_rate_init': [0.1,0.01,0.001],\n",
    "                  'clf__max_iter': [10000],\n",
    "                  'clf__batch_size': [16,32,64]}\n",
    "param_grid_ensemble = {'clf__max_depth': [10, 20, 40, None],\n",
    "                       'clf__max_features': ['auto', 'sqrt'],\n",
    "                       'clf__min_samples_leaf': [1, 2, 3],\n",
    "                       'clf__min_samples_split': [2, 3, 5],\n",
    "                       'clf__n_estimators': [100, 200, 500, 1000]}\n",
    "\n",
    "methods = [('SVM', svm.SVC(), param_grid_svm), \n",
    "           ('MLP', neural_network.MLPClassifier(), param_grid_mlp),\n",
    "           ('RandForest',ensemble.RandomForestClassifier(), param_grid_ensemble)]"
   ]
  },
  {
   "cell_type": "markdown",
   "metadata": {},
   "source": [
    "## Inner CV"
   ]
  },
  {
   "cell_type": "code",
   "execution_count": null,
   "metadata": {},
   "outputs": [],
   "source": [
    "def param_scan(X, y, method, param_grid, cv=10):\n",
    "    \n",
    "    pipe = Pipeline([('scaler', StandardScaler()), ('clf', method)])\n",
    "    \n",
    "    clf = GridSearchCV(estimator = pipe, \n",
    "                       param_grid = param_grid,\n",
    "                       refit = True,\n",
    "                       cv=cv,\n",
    "                       n_jobs=20)\n",
    "    \n",
    "    clf.fit(X, y)\n",
    "    \n",
    "    return clf"
   ]
  },
  {
   "cell_type": "markdown",
   "metadata": {},
   "source": [
    "## Outer CV"
   ]
  },
  {
   "cell_type": "code",
   "execution_count": null,
   "metadata": {},
   "outputs": [],
   "source": [
    "def nested_cv(X, y, method, param_grid, NUM_TRIALS=3):\n",
    "    scoring = {'accuracy': 'accuracy', \n",
    "               'balanced_accuracy': 'balanced_accuracy',\n",
    "               'average_precision': make_scorer(precision_score, average='micro'), \n",
    "               'average_recall': make_scorer(recall_score, average='micro'),\n",
    "               'recall_cancer': make_scorer(recall_score, pos_label='cancer'),\n",
    "               'precision_cancer': make_scorer(precision_score, pos_label='cancer'),\n",
    "               'recall_normal': make_scorer(recall_score, pos_label='normal'),\n",
    "               'precision_normal': make_scorer(precision_score, pos_label='normal')}\n",
    "    nested_scores = {key: np.array([]) for key in scoring}\n",
    "\n",
    "    # Loop for each trial\n",
    "    for i in tqdm(range(NUM_TRIALS), leave=False, position=2):\n",
    "        inner_cv = KFold(n_splits=5, shuffle=True, random_state=i)\n",
    "        outer_cv = KFold(n_splits=5, shuffle=True, random_state=i)\n",
    "\n",
    "        clf = param_scan(X, y, method, param_grid)\n",
    "        \n",
    "        nested_score = cross_validate(clf, X=X, y=y, cv=outer_cv, scoring=scoring)\n",
    "        \n",
    "        for key in scoring:\n",
    "            nested_scores[key] = np.append(nested_scores[key], nested_score['test_'+key].mean())\n",
    "    \n",
    "    result = {key+'_'+val: nested_scores[key].mean() if val=='mean' else nested_scores[key].std() for key in scoring for val in ['mean','std']}\n",
    "    result_all = {key+'_all': nested_scores[key] for key in scoring}\n",
    "    result.update(result_all)\n",
    "    return result"
   ]
  },
  {
   "cell_type": "markdown",
   "metadata": {},
   "source": [
    "## Features/Classifier Loop"
   ]
  },
  {
   "cell_type": "code",
   "execution_count": 71,
   "metadata": {},
   "outputs": [],
   "source": [
    "def grid_forall_th_m(ds, methods):\n",
    "    \n",
    "    thresholds = ds['thresholds']\n",
    "    df = ds['df']\n",
    "        \n",
    "    pcs = [col for col in df.columns if col.startswith('pca')]\n",
    "    sing_th = [(\"single_th\", \"Th_\"+str(i), [\"thre=\" + str(th)])\n",
    "               for i, th in enumerate(thresholds)]\n",
    "    features_list = sing_th + [('pca', 'pca', pcs)]\n",
    "    \n",
    "    results_df = pd.DataFrame()\n",
    "    \n",
    "    for i, method in enumerate(tqdm(methods)):\n",
    "        pbar = tqdm(features_list, leave=False, position=1)\n",
    "        for features_kind, features_name, features in pbar:\n",
    "            \n",
    "            columns = [col for col in df.columns if col.startswith(tuple(features))]\n",
    "            \n",
    "            X, y = df[columns], df['name_class']\n",
    "            \n",
    "            class_name, classifier, param_grid = method\n",
    "            result_dict = nested_cv(X, y, classifier, param_grid)\n",
    "            \n",
    "            new_setting = dict(method = class_name,\n",
    "                               features_kind = features_kind,\n",
    "                               features_name = features_name,\n",
    "                               features = features)\n",
    "            new_setting.update(result_dict)\n",
    "            \n",
    "            results_df = results_df.append(new_setting, ignore_index=True)\n",
    "        \n",
    "        results_df.to_csv(f\"results_partial_{i}.csv\",index=False)\n",
    "    return results_df"
   ]
  },
  {
   "cell_type": "markdown",
   "metadata": {},
   "source": [
    "# Main"
   ]
  },
  {
   "cell_type": "code",
   "execution_count": null,
   "metadata": {},
   "outputs": [],
   "source": [
    "results = grid_forall_th_m(ds_dict, methods)"
   ]
  },
  {
   "cell_type": "markdown",
   "metadata": {},
   "source": [
    "## Save"
   ]
  },
  {
   "cell_type": "code",
   "execution_count": null,
   "metadata": {},
   "outputs": [],
   "source": [
    "results.to_csv(\"output/result.csv\",index=False)"
   ]
  },
  {
   "cell_type": "markdown",
   "metadata": {},
   "source": [
    "## Load"
   ]
  },
  {
   "cell_type": "code",
   "execution_count": 69,
   "metadata": {},
   "outputs": [],
   "source": [
    "results = pd.read_csv(\"output/results.csv\")"
   ]
  },
  {
   "cell_type": "code",
   "execution_count": 70,
   "metadata": {},
   "outputs": [
    {
     "data": {
      "text/html": [
       "<div>\n",
       "<style scoped>\n",
       "    .dataframe tbody tr th:only-of-type {\n",
       "        vertical-align: middle;\n",
       "    }\n",
       "\n",
       "    .dataframe tbody tr th {\n",
       "        vertical-align: top;\n",
       "    }\n",
       "\n",
       "    .dataframe thead th {\n",
       "        text-align: right;\n",
       "    }\n",
       "</style>\n",
       "<table border=\"1\" class=\"dataframe\">\n",
       "  <thead>\n",
       "    <tr style=\"text-align: right;\">\n",
       "      <th></th>\n",
       "      <th>3</th>\n",
       "    </tr>\n",
       "  </thead>\n",
       "  <tbody>\n",
       "    <tr>\n",
       "      <th>accuracy_mean</th>\n",
       "      <td>0.866667</td>\n",
       "    </tr>\n",
       "    <tr>\n",
       "      <th>precision_cancer_mean</th>\n",
       "      <td>0.861005</td>\n",
       "    </tr>\n",
       "    <tr>\n",
       "      <th>recall_cancer_mean</th>\n",
       "      <td>0.879992</td>\n",
       "    </tr>\n",
       "  </tbody>\n",
       "</table>\n",
       "</div>"
      ],
      "text/plain": [
       "                              3\n",
       "accuracy_mean          0.866667\n",
       "precision_cancer_mean  0.861005\n",
       "recall_cancer_mean     0.879992"
      ]
     },
     "execution_count": 70,
     "metadata": {},
     "output_type": "execute_result"
    }
   ],
   "source": [
    "selection = results[(results['features_name']==\"Th_3\") & (results['method']==\"SVM\")]\n",
    "selection[['accuracy_mean','precision_cancer_mean','recall_cancer_mean']].T"
   ]
  }
 ],
 "metadata": {
  "kernelspec": {
   "display_name": "Python 3",
   "language": "python",
   "name": "python3"
  },
  "language_info": {
   "codemirror_mode": {
    "name": "ipython",
    "version": 3
   },
   "file_extension": ".py",
   "mimetype": "text/x-python",
   "name": "python",
   "nbconvert_exporter": "python",
   "pygments_lexer": "ipython3",
   "version": "3.8.5"
  }
 },
 "nbformat": 4,
 "nbformat_minor": 4
}
